{
 "cells": [
  {
   "cell_type": "markdown",
   "id": "41f7bebb",
   "metadata": {},
   "source": [
    "# Machine Learning Overview\n",
    "This notebook explains key algorithms, performance metrics, and differences between supervised and unsupervised learning."
   ]
  },
  {
   "cell_type": "markdown",
   "id": "89190e8f",
   "metadata": {},
   "source": [
    "## 1. Supervised vs Unsupervised Learning"
   ]
  },
  {
   "cell_type": "markdown",
   "id": "a9cebf48",
   "metadata": {},
   "source": [
    "### Supervised Learning\n",
    "- **Data is labeled**: We know the output for every input.\n",
    "- **Goal**: Learn a function that maps input to output.\n",
    "- **Examples**: Classification (e.g. spam detection), Regression (e.g. price prediction)\n",
    "\n",
    "### Unsupervised Learning\n",
    "- **Data is unlabeled**: No outputs provided.\n",
    "- **Goal**: Find structure in the data (e.g., group similar items).\n",
    "- **Examples**: Clustering, Dimensionality Reduction\n",
    "\n",
    "### Comparison\n",
    "\n",
    "| Feature                   | Supervised Learning         | Unsupervised Learning        |\n",
    "|--------------------------|-----------------------------|------------------------------|\n",
    "| Labels                   | Required                    | Not required                 |\n",
    "| Goal                     | Predict outputs             | Find hidden patterns         |\n",
    "| Algorithms               | KNN, SVM, Logistic, etc.    | KMeans, PCA, etc.            |\n"
   ]
  },
  {
   "cell_type": "markdown",
   "id": "3a026d4b",
   "metadata": {},
   "source": [
    "## 2. Algorithms Overview and Differences"
   ]
  },
  {
   "cell_type": "markdown",
   "id": "25d6fa06",
   "metadata": {},
   "source": [
    "### Classification Algorithms\n",
    "\n",
    "| Algorithm         | Type          | Pros                                  | Cons                              |\n",
    "|------------------|---------------|---------------------------------------|-----------------------------------|\n",
    "| **KNN**           | Classification | Simple, intuitive                     | Slow with large data              |\n",
    "| **SVM**           | Classification | Good for high-dimensional data       | Hard to tune, not great with noise|\n",
    "| **Naive Bayes**   | Classification | Fast, good with text data             | Assumes features are independent  |\n",
    "| **Logistic Reg.** | Classification | Probabilistic output, simple          | Only linear boundaries            |\n",
    "| **Decision Tree** | Classification | Easy to visualize, interpretable      | Can overfit easily                |\n",
    "| **Random Forest** | Classification | Powerful, reduces overfitting         | Slower, harder to interpret       |\n",
    "\n",
    "### Regression\n",
    "\n",
    "| Algorithm           | Type      | Use Case                     |\n",
    "|--------------------|-----------|------------------------------|\n",
    "| **Linear Regression** | Regression | Predicting continuous values |\n"
   ]
  },
  {
   "cell_type": "code",
   "execution_count": 13,
   "id": "4fb7a207",
   "metadata": {},
   "outputs": [],
   "source": [
    "from sklearn.datasets import load_iris, load_diabetes\n",
    "from sklearn.model_selection import train_test_split\n",
    "from sklearn.linear_model import LogisticRegression, LinearRegression\n",
    "from sklearn.svm import SVC\n",
    "from sklearn.naive_bayes import GaussianNB\n",
    "from sklearn.neighbors import KNeighborsClassifier\n",
    "from sklearn.tree import DecisionTreeClassifier\n",
    "from sklearn.ensemble import RandomForestClassifier\n",
    "from sklearn.cluster import KMeans\n",
    "from sklearn.metrics import (\n",
    "    accuracy_score, classification_report, mean_squared_error,\n",
    "    r2_score, silhouette_score\n",
    ")\n",
    "\n",
    "import numpy as np\n"
   ]
  },
  {
   "cell_type": "markdown",
   "id": "75041355",
   "metadata": {},
   "source": [
    "## 3. Model Examples"
   ]
  },
  {
   "cell_type": "code",
   "execution_count": 14,
   "id": "c1e856fb",
   "metadata": {},
   "outputs": [
    {
     "name": "stdout",
     "output_type": "stream",
     "text": [
      "Logistic Regression Accuracy: 0.9333333333333333\n"
     ]
    }
   ],
   "source": [
    "# Logistic Regression\n",
    "iris = load_iris()\n",
    "X, y = iris.data, iris.target\n",
    "X_train, X_test, y_train, y_test = train_test_split(X, y, test_size=0.2)\n",
    "\n",
    "model = LogisticRegression(max_iter=200)\n",
    "model.fit(X_train, y_train)\n",
    "print(\"Logistic Regression Accuracy:\", model.score(X_test, y_test))\n"
   ]
  },
  {
   "cell_type": "code",
   "execution_count": 15,
   "id": "28e26650",
   "metadata": {},
   "outputs": [
    {
     "name": "stdout",
     "output_type": "stream",
     "text": [
      "KNN Accuracy: 0.9333333333333333\n"
     ]
    }
   ],
   "source": [
    "# KNN\n",
    "model = KNeighborsClassifier(n_neighbors=3)\n",
    "model.fit(X_train, y_train)\n",
    "print(\"KNN Accuracy:\", model.score(X_test, y_test))"
   ]
  },
  {
   "cell_type": "code",
   "execution_count": 16,
   "id": "91b106ba",
   "metadata": {},
   "outputs": [
    {
     "name": "stdout",
     "output_type": "stream",
     "text": [
      "SVM Accuracy: 0.9666666666666667\n"
     ]
    }
   ],
   "source": [
    "# SVM\n",
    "model = SVC()\n",
    "model.fit(X_train, y_train)\n",
    "print(\"SVM Accuracy:\", model.score(X_test, y_test))"
   ]
  },
  {
   "cell_type": "code",
   "execution_count": 17,
   "id": "209cdbe3",
   "metadata": {},
   "outputs": [
    {
     "name": "stdout",
     "output_type": "stream",
     "text": [
      "Naive Bayes Accuracy: 0.9333333333333333\n"
     ]
    }
   ],
   "source": [
    "# Naive Bayes\n",
    "model = GaussianNB()\n",
    "model.fit(X_train, y_train)\n",
    "print(\"Naive Bayes Accuracy:\", model.score(X_test, y_test))"
   ]
  },
  {
   "cell_type": "code",
   "execution_count": 18,
   "id": "290c8574",
   "metadata": {},
   "outputs": [
    {
     "name": "stdout",
     "output_type": "stream",
     "text": [
      "Decision Tree Accuracy: 0.9333333333333333\n"
     ]
    }
   ],
   "source": [
    "# Decision Tree\n",
    "model = DecisionTreeClassifier()\n",
    "model.fit(X_train, y_train)\n",
    "print(\"Decision Tree Accuracy:\", model.score(X_test, y_test))"
   ]
  },
  {
   "cell_type": "code",
   "execution_count": 19,
   "id": "7780eaf9",
   "metadata": {},
   "outputs": [
    {
     "name": "stdout",
     "output_type": "stream",
     "text": [
      "Random Forest Accuracy: 0.9333333333333333\n"
     ]
    }
   ],
   "source": [
    "# Random Forest\n",
    "model = RandomForestClassifier()\n",
    "model.fit(X_train, y_train)\n",
    "print(\"Random Forest Accuracy:\", model.score(X_test, y_test))"
   ]
  },
  {
   "cell_type": "code",
   "execution_count": 20,
   "id": "f2bda170",
   "metadata": {},
   "outputs": [
    {
     "name": "stdout",
     "output_type": "stream",
     "text": [
      "R² Score (Linear Regression): 0.3454668312171736\n"
     ]
    }
   ],
   "source": [
    "# Linear Regression\n",
    "X, y = load_diabetes(return_X_y=True)\n",
    "X_train, X_test, y_train, y_test = train_test_split(X, y)\n",
    "model = LinearRegression()\n",
    "model.fit(X_train, y_train)\n",
    "print(\"R² Score (Linear Regression):\", model.score(X_test, y_test))"
   ]
  },
  {
   "cell_type": "code",
   "execution_count": 21,
   "id": "ae2b9e78",
   "metadata": {},
   "outputs": [
    {
     "name": "stdout",
     "output_type": "stream",
     "text": [
      "Cluster centers: [[5.88360656 2.74098361 4.38852459 1.43442623]\n",
      " [5.006      3.428      1.462      0.246     ]\n",
      " [6.85384615 3.07692308 5.71538462 2.05384615]]\n"
     ]
    }
   ],
   "source": [
    "# Clustering\n",
    "X = load_iris().data\n",
    "kmeans = KMeans(n_clusters=3, random_state=0)\n",
    "kmeans.fit(X)\n",
    "print(\"Cluster centers:\", kmeans.cluster_centers_)"
   ]
  },
  {
   "cell_type": "markdown",
   "id": "959f2189",
   "metadata": {},
   "source": [
    "## 4. Performance Metrics"
   ]
  },
  {
   "cell_type": "markdown",
   "id": "67ea4be1",
   "metadata": {},
   "source": [
    "###  Classification\n",
    "\n",
    "| Metric          | Description                                 |\n",
    "|-----------------|---------------------------------------------|\n",
    "| **Accuracy**     | % of correct predictions                   |\n",
    "| **Precision**    | True Positives / (True Positives + FP)     |\n",
    "| **Recall**       | True Positives / (True Positives + FN)     |\n",
    "| **F1 Score**     | Harmonic mean of precision and recall      |\n"
   ]
  },
  {
   "cell_type": "code",
   "execution_count": 24,
   "id": "a53329bd",
   "metadata": {},
   "outputs": [
    {
     "name": "stdout",
     "output_type": "stream",
     "text": [
      "Classification Report:\n",
      "              precision    recall  f1-score   support\n",
      "\n",
      "           0       1.00      1.00      1.00         9\n",
      "           1       1.00      1.00      1.00        11\n",
      "           2       1.00      1.00      1.00        10\n",
      "\n",
      "    accuracy                           1.00        30\n",
      "   macro avg       1.00      1.00      1.00        30\n",
      "weighted avg       1.00      1.00      1.00        30\n",
      "\n"
     ]
    }
   ],
   "source": [
    "# Classification metrics with Logistic Regression\n",
    "from sklearn.linear_model import LogisticRegression\n",
    "iris = load_iris()\n",
    "X, y = iris.data, iris.target\n",
    "X_train, X_test, y_train, y_test = train_test_split(X, y, test_size=0.2)\n",
    "\n",
    "clf = LogisticRegression(max_iter=200)\n",
    "clf.fit(X_train, y_train)\n",
    "\n",
    "print(\"Classification Report:\")\n",
    "print(classification_report(y_test, clf.predict(X_test)))\n"
   ]
  },
  {
   "cell_type": "markdown",
   "id": "efef2d5f",
   "metadata": {},
   "source": [
    "### Regression\n",
    "\n",
    "| Metric         | Description                          |\n",
    "|----------------|--------------------------------------|\n",
    "| **MSE**         | Penalizes large errors               |\n",
    "| **R² Score**    | Proportion of variance explained     |\n"
   ]
  },
  {
   "cell_type": "code",
   "execution_count": null,
   "id": "b7384baa",
   "metadata": {},
   "outputs": [
    {
     "name": "stdout",
     "output_type": "stream",
     "text": [
      "MSE: 3349.225519027615\n",
      "R²: 0.4469357891154532\n"
     ]
    }
   ],
   "source": [
    "# Regression metrics\n",
    "y_pred = model.predict(X_test)\n",
    "print(\"MSE:\", mean_squared_error(y_test, y_pred))\n",
    "print(\"R²:\", r2_score(y_test, y_pred))"
   ]
  },
  {
   "cell_type": "markdown",
   "id": "4b072cea",
   "metadata": {},
   "source": [
    "### Clustering\n",
    "\n",
    "| Metric              | Use Case               |\n",
    "|---------------------|------------------------|\n",
    "| **Silhouette Score**| Measures cluster quality |\n"
   ]
  },
  {
   "cell_type": "code",
   "execution_count": null,
   "id": "27c7ddc4",
   "metadata": {},
   "outputs": [
    {
     "name": "stdout",
     "output_type": "stream",
     "text": [
      "Silhouette Score: 0.551191604619592\n"
     ]
    }
   ],
   "source": [
    "# Clustering score\n",
    "print(\"Silhouette Score:\", silhouette_score(X, kmeans.labels_))"
   ]
  },
  {
   "cell_type": "markdown",
   "id": "f48fea2b",
   "metadata": {},
   "source": [
    "## Summary Table\n",
    "\n",
    "| Task         | Recommended Algorithm | Reason                        |\n",
    "|--------------|-----------------------|-------------------------------|\n",
    "| Classification | Random Forest / SVM   | Accurate and robust           |\n",
    "| Regression     | Linear Regression     | Simple, fast                  |\n",
    "| Clustering     | KMeans                | Popular, interpretable        |\n",
    "| Text data      | Naive Bayes           | Works well with probabilities |\n",
    "| Interpretability | Decision Tree       | Easy to visualize             |\n"
   ]
  }
 ],
 "metadata": {
  "kernelspec": {
   "display_name": "env",
   "language": "python",
   "name": "python3"
  },
  "language_info": {
   "codemirror_mode": {
    "name": "ipython",
    "version": 3
   },
   "file_extension": ".py",
   "mimetype": "text/x-python",
   "name": "python",
   "nbconvert_exporter": "python",
   "pygments_lexer": "ipython3",
   "version": "3.12.3"
  }
 },
 "nbformat": 4,
 "nbformat_minor": 5
}

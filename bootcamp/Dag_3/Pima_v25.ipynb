{
 "cells": [
  {
   "attachments": {},
   "cell_type": "markdown",
   "metadata": {
    "_cell_guid": "337d2561-9751-43ab-85b0-1ff1eb484a50",
    "_uuid": "2cdd31268c6901e4be816854bd57c9e757c066ec"
   },
   "source": [
    "## Hello (noteboek geinspireert door Kaggle aangepast door Ferry !!)\n",
    "### V25\n",
    "Dit notebook en een vliegende start in data-analyse en machinelearning. Plaats dit bestand samen met de CSV file in de map Bootcamp/Dag3.\n",
    "dan:\n",
    "\n",
    "$ git add Pima_v25.ipynb diabetes.csv\n",
    "\n",
    "$ git commit -m \"EIGEN BERICHT\"\n",
    "\n",
    "$ git push\n",
    "\n",
    "\n",
    "## Een AI/Datascience project doorloop altijd de volgende stappen:\n",
    "\n",
    "1)Feature Selection\n",
    "\n",
    "2)Model selection\n",
    "\n",
    "3)Input validation\n",
    "\n",
    "4)Voorspellen\n",
    "\n",
    "5)Validatie door confusion\n",
    "\n",
    "6)Selectie model\n",
    "\n",
    "5)Gradio webinterface naar diagnostic tool op basis van gekozen model\n",
    "\n",
    "\n",
    "## Vraag 1\n",
    "\n",
    "Om een systeem te kunnen bouwen en testen is enige domeinkennis absoluut noodzakelijk, bekijk de volgende vragen en beantwoord ze in de volgende cel.\n",
    "\n",
    "Beantwoorden in de volgende cel:\n",
    "- Wat is diabetes?\n",
    "- Hoe krijg je het?\n",
    "- Zijn er verschillende soorten?\n",
    "- Wat zijn de gevolgen?\n",
    "- Hoe wordt het gediagnostiseerd?\n",
    "- Hoe wordt het behandeld?\n",
    "\n",
    "## Tot slot;\n",
    "ChatGPT/Google/Bing kunnen op alle vragen een antwoord geven, het gaat niet om het antwoord het doel is\n",
    "begrip te krijgen in het domein. Zoek het op vat samen en maak de begrippen voor je zelf duidelijk."
   ]
  },
  {
   "cell_type": "raw",
   "metadata": {},
   "source": [
    "#### Cell 2 Ken je domein zodat je de data kan evalueren: max 20 min\n",
    "\n",
    "###V1:\n",
    "Diabetes is een ziekte waarbij de lichaam problemen heeft bij het productie van insuline.\n",
    "\n",
    "### V2:\n",
    "Om te begrijpen hoe je diabetes krijgt moet je eerst kijken naar de 2 soorten. Je hebt diabetes 1 en 2. Voor diabetes 1 is het niet altijd heel duidelijk hoe het ontstaat, maar grootste oorzaken die het beinvloeden zijn erfing en omgeving.\n",
    "-\n",
    "Bij diabetes 2 zijn er meerdere oorzaken zoals:\n",
    "    - Overschot aan buikvet\n",
    "    - Erfelijkheid\n",
    "    - Leeftijd\n",
    "    - Weinig lichaamsbeweging\n",
    "\n",
    "### V3:\n",
    "Ja je hebt diabetes type 1 en 2, bij vraag 2 staat het beter uitgelegd.\n",
    "\n",
    "### V4\n",
    "Er zijn heelveel gevolgen van diabetes, in de dagelijks leven moet je op je bloedsuiker hoeveelheid letten, insuline spuiten en letten op wat je eet. De fysieke effecten zijn zo lang dat ik maar een paar op noem. Laag energie, hoog energie, hart problemen, amputaties etc..\n",
    "\n",
    "### V5\n",
    "Er zijn meerdere manieren om diabetes te testen. Je kan zelfs de urine proeven van iemand met diabetes, en als het zoet is weet je het. Maar met moderne medicijn kijken ze naar bloedsuiker testen.\n",
    "\n",
    "### V6\n",
    "Insuline bijnemen, en letten op de dieet.\n",
    "\n",
    "\n",
    "\n",
    "\n",
    "\n",
    "\n",
    "\n",
    "\n",
    "\n",
    "\n",
    "\n",
    "\n",
    "\n",
    "\n",
    "\n",
    "\n",
    "\n"
   ]
  },
  {
   "cell_type": "markdown",
   "metadata": {},
   "source": [
    "## Terug naar de les deel 2."
   ]
  },
  {
   "cell_type": "raw",
   "metadata": {},
   "source": [
    "####  Import voor benodigde modules. Heb je een foutmelding installeer dan met Pip de ontbrekende modules."
   ]
  },
  {
   "cell_type": "code",
   "execution_count": 3,
   "metadata": {
    "_cell_guid": "0cb67764-53d0-4532-bd46-0d244615eb22",
    "_uuid": "d2792fa5793698bcab3aca4e99c5cba382edc042"
   },
   "outputs": [],
   "source": [
    "\n",
    "import pandas as pd\n",
    "import matplotlib.pyplot as plt\n",
    "import seaborn as sns\n",
    "import numpy as np\n",
    "import itertools\n",
    "plt.style.use('fivethirtyeight')\n"
   ]
  },
  {
   "cell_type": "raw",
   "metadata": {},
   "source": [
    "### Opdracht 1: \n",
    "Gebruik pandas (pd) om het bestand diabetes.csv in te lezen en toe te kennen aan variable genaamd diab. "
   ]
  },
  {
   "cell_type": "code",
   "execution_count": null,
   "metadata": {
    "_cell_guid": "f2ebf534-cd7d-40cb-94f1-d01d3b47854b",
    "_uuid": "7701a4dec64aac2cb2207d948daac81609fce014"
   },
   "outputs": [],
   "source": [
    "\n"
   ]
  },
  {
   "cell_type": "raw",
   "metadata": {
    "_cell_guid": "0e022346-7c51-4286-a6a3-02bb594d368b",
    "_uuid": "09f9a42a9b766b0895f15ee8a20236ccf20a3edb"
   },
   "source": [
    "### Opdracht 2:\n",
    "\n",
    "Check de data zijn alle records in de tabel juist.\n",
    "Maak drie tests in python om te zien of de data correct is. \n",
    "\n",
    "TIP: het pandas object heeft hiervoor ook een aantal ingebouwde functies. (desscribe())"
   ]
  },
  {
   "cell_type": "code",
   "execution_count": 4,
   "metadata": {
    "_cell_guid": "931c0fa8-1a89-4b3f-80cb-f5e3892cab3c",
    "_uuid": "6f867ac1b1d695f031ade5ab50d1e7b354369057",
    "scrolled": true
   },
   "outputs": [],
   "source": [
    "# Hoeveel records zijn er?\n",
    "\n",
    "\n",
    "# Is dat genoeg voor een AI oplossing?\n"
   ]
  },
  {
   "cell_type": "code",
   "execution_count": 5,
   "metadata": {},
   "outputs": [],
   "source": [
    "# test 1 (b.v nul waarden)\n"
   ]
  },
  {
   "cell_type": "code",
   "execution_count": 6,
   "metadata": {},
   "outputs": [],
   "source": [
    "# test 2 (b.v nan waarden)\n"
   ]
  },
  {
   "cell_type": "code",
   "execution_count": 7,
   "metadata": {},
   "outputs": [],
   "source": [
    "# test 3 (Wat kan je nog meer testen)\n"
   ]
  },
  {
   "cell_type": "code",
   "execution_count": 8,
   "metadata": {},
   "outputs": [],
   "source": [
    "# vervang 0 and NaN waarden.\n",
    "\n",
    "\n",
    "\n"
   ]
  },
  {
   "cell_type": "raw",
   "metadata": {
    "_cell_guid": "f495e65e-93d2-42b3-9f40-e2c412264312",
    "_uuid": "7a503dd630720dd8d8b2ac55d16d3a8f6fea8239",
    "collapsed": true
   },
   "source": [
    "### Opdracht 3:\n",
    "\n",
    "Hoeveel gevallen van diabetes zijn er?\n",
    "Is het volgens jouw een probleem dat er een verschil is tussen het aantal diabetes gevallen en geen diabetes?\n",
    "\n",
    "Reken de waarden hieronder uit."
   ]
  },
  {
   "cell_type": "code",
   "execution_count": null,
   "metadata": {
    "_cell_guid": "364e6842-8a4b-4993-bad8-0aa67a4fa541",
    "_uuid": "3ee22c0b27b1a221d8a01f6b7cf67114d5d1ac0e"
   },
   "outputs": [],
   "source": [
    "\n",
    "\n",
    "\n",
    "\n"
   ]
  },
  {
   "cell_type": "markdown",
   "metadata": {},
   "source": [
    "## Terug naar de les derde deel."
   ]
  },
  {
   "cell_type": "raw",
   "metadata": {
    "_cell_guid": "6cc6058a-062a-4292-a6fb-bd873a537711",
    "_uuid": "5ee171bf18e79548189aae81dfa0761dc2ec6917"
   },
   "source": [
    "### Een korte analyse.\n",
    "\n",
    "Run de onderstaande cell en bestudeer de plots, valt er iets op speel ook eens met het aantal bins in het histogram? "
   ]
  },
  {
   "cell_type": "code",
   "execution_count": null,
   "metadata": {
    "_cell_guid": "5920f160-a4f9-43db-944b-017fef35ffab",
    "_uuid": "183d0cd54b205fb5d3e1e1b2113d93b54f80aaec",
    "scrolled": true
   },
   "outputs": [],
   "source": [
    "columns=diab.columns[:9]\n",
    "plt.subplots(figsize=(15,15))\n",
    "length=len(columns)\n",
    "for i,j in itertools.zip_longest(columns,range(length)):\n",
    "    plt.subplot(int(length/2),3,j+1)\n",
    "    plt.subplots_adjust(wspace=0.2,hspace=0.5)\n",
    "    diab[i].hist(bins=20,edgecolor='black')\n",
    "    plt.title(i)\n",
    "plt.show()"
   ]
  },
  {
   "cell_type": "raw",
   "metadata": {},
   "source": [
    "### Opdracht 4:\n",
    "Wat valt er op?\n",
    "\n",
    "...\n",
    "\n",
    "\n",
    "\n",
    "\n",
    "\n",
    "Heeft het aantal bins invloed op de vorm van de histogrammen en zoja waarom?\n",
    "\n",
    "\n",
    "...\n",
    "\n",
    "\n",
    "\n"
   ]
  },
  {
   "cell_type": "raw",
   "metadata": {
    "_cell_guid": "9737bf15-480f-4a80-aa4e-2f335bbd1434",
    "_uuid": "c09beedb6314e0c543c6d93352f1f99a0762f74d"
   },
   "source": [
    "### Opdracht  5:\n",
    "\n",
    "Doe de zelfde test maar selecteer nu alleen op de gevallen met diabetes. Is er een verschill met de plots waarin alle gevallen staan. Geef een motivatie? \n",
    "\n",
    "Bevatten sommige kolommen ongeldige waarden?\n",
    "\n",
    "Repareer de tabel zo dat er geen nul waarden instaan? \n",
    "\n",
    "Welke waarde zou je kiezen als vervanging van de nul waarden?\n",
    "\n",
    "\n",
    "TIP: Maak eerst een tabel met alleen de diabetes gevallen en gebruik de onderstaande cellen. "
   ]
  },
  {
   "cell_type": "code",
   "execution_count": null,
   "metadata": {},
   "outputs": [],
   "source": [
    "\n",
    "\n",
    "\n",
    "\n",
    "\n"
   ]
  },
  {
   "cell_type": "raw",
   "metadata": {},
   "source": [
    "Vraag ? : Wat valt op in de verdelingen:\n",
    "\n",
    "-\n",
    "-\n",
    "-\n"
   ]
  },
  {
   "cell_type": "code",
   "execution_count": null,
   "metadata": {},
   "outputs": [],
   "source": []
  },
  {
   "cell_type": "code",
   "execution_count": null,
   "metadata": {},
   "outputs": [],
   "source": [
    "from pandas.plotting import scatter_matrix\n",
    "plt.rcParams['figure.figsize'] = [20, 20]\n",
    "\n",
    "sns.pairplot(diab, vars=[\"Pregnancies\", \"Glucose\",\"BloodPressure\",\"SkinThickness\",\"Insulin\", \"BMI\",\"DiabetesPedigreeFunction\", \"Age\"],hue=\"Outcome\")\n",
    "plt.title(\"Pairplot of Variables by Outcome\")\n",
    "\n",
    "plt.show()"
   ]
  },
  {
   "cell_type": "code",
   "execution_count": null,
   "metadata": {
    "_cell_guid": "df002cd5-d2fa-4c78-a828-8dd436e38489",
    "_uuid": "0bed26690fe961b76bba8048426ce4279fe34e70"
   },
   "outputs": [],
   "source": []
  },
  {
   "cell_type": "raw",
   "metadata": {},
   "source": [
    "### Opdracht  6 \n",
    "\n",
    "Hoe bepaal je in pandas de correlatie tussen twee of meerdere kolomen?\n",
    "\n",
    "Wat betekent het als er sprake is van een correlatie?\n",
    "\n"
   ]
  },
  {
   "cell_type": "code",
   "execution_count": null,
   "metadata": {},
   "outputs": [],
   "source": []
  },
  {
   "cell_type": "raw",
   "metadata": {},
   "source": [
    "### Opdracht 7:\n",
    "\n",
    "Hoe maak je in SNS een heatmap, wat is een heatmap eigenlijk?\n",
    "\n",
    "\n",
    "\n",
    "Maak een correlatie tabel in pandas en geef die weer in een heatmap"
   ]
  },
  {
   "cell_type": "raw",
   "metadata": {},
   "source": [
    "### Deelvraag: Maak in seaborn een heatmap gevuld een pandas correlatie tabel.?\n",
    "\n"
   ]
  },
  {
   "cell_type": "code",
   "execution_count": null,
   "metadata": {},
   "outputs": [],
   "source": [
    "# Heatmap\n",
    "\n",
    "\n",
    "\n",
    "\n",
    "\n"
   ]
  },
  {
   "cell_type": "markdown",
   "metadata": {},
   "source": [
    "## Terug naar de les deel 4."
   ]
  },
  {
   "cell_type": "raw",
   "metadata": {
    "_cell_guid": "d1714227-b678-4590-a1f3-65418ee42983",
    "_uuid": "68fff0bba19fa506cb14a6fa4ca838bc5a5e6d1a"
   },
   "source": [
    "### Laten we eens wat voorspellen!\n",
    "\n",
    "Gevraagd bekijk van eenieder hier ondergenoemde classifiers (zie de python imports) de wikipedia pagina. \n",
    "Welke denk je dat voor ons probleem het meeste geschikt is en waarom?\n",
    "\n",
    "\n",
    "Wat zijn de verschillen tussen de clasifier?\n",
    "\n",
    "Om welke reden zou je een bepaalde clasifier kiezen?\n",
    ".\n",
    ".\n",
    ".\n",
    ".\n",
    "Zijn er nog meer clasisfiers zoja welke?\n",
    "\n"
   ]
  },
  {
   "cell_type": "code",
   "execution_count": null,
   "metadata": {
    "_cell_guid": "3492b216-111e-4bff-8655-649c467d05dd",
    "_uuid": "a4523a727c262dde118f48f10852441c138bbbe9"
   },
   "outputs": [],
   "source": [
    "# Importeen aantal standaard systeem voor machine-learning gebruik pip om de ontbrekende modules te installeren.\n",
    "\n",
    "from sklearn import svm\n",
    "from sklearn.neighbors import KNeighborsClassifier\n",
    "from sklearn.tree import DecisionTreeClassifier\n",
    "from sklearn.linear_model import LogisticRegression\n",
    "from sklearn.model_selection import train_test_split\n",
    "from sklearn import metrics\n",
    "import warnings\n",
    "warnings.filterwarnings('ignore')"
   ]
  },
  {
   "cell_type": "raw",
   "metadata": {
    "_cell_guid": "f948a9ec-cf4c-4b0c-8255-cbfbbc3d9a58",
    "_uuid": "aa1227d23a4f5b53268ecb111604d1eaa9023f54"
   },
   "source": [
    "### Opdracht 8:\n",
    "\n",
    "Zoek uit wat er in het onderstaande blok gebeurt, geef hieronder de beschrijving in je eigen woorden (geen GPT output):\n",
    "\n",
    ".\n",
    ".\n",
    ".\n",
    "\n",
    ".\n",
    ".\n",
    ".\n",
    ".\n",
    ".\n",
    ".\n",
    "."
   ]
  },
  {
   "cell_type": "code",
   "execution_count": null,
   "metadata": {
    "_cell_guid": "36345868-0e3d-4bc3-8b0d-fe9d4d020cb9",
    "_uuid": "5c5fff2094840f3dec40ee70b760116423a68057"
   },
   "outputs": [],
   "source": [
    "# De code hieronder is absuluut noodzakelijk voor een ML training.\n",
    "# Er staat wel een regel teveel!, wat kan weg?\n",
    "\n",
    "outcome=diab['Outcome']\n",
    "data=diab[diab.columns[:8]]\n",
    "train,test=train_test_split(diab,test_size=0.25,random_state=0,stratify=diab['Outcome'])# stratify the outcome\n",
    "train_X=train[train.columns[:8]]\n",
    "test_X=test[test.columns[:8]]\n",
    "train_Y=train['Outcome']\n",
    "test_Y=test['Outcome']"
   ]
  },
  {
   "cell_type": "code",
   "execution_count": null,
   "metadata": {
    "_cell_guid": "2c2ccd13-f1cc-4ae3-8cc2-b16789944e8b",
    "_uuid": "419e9b6e00fcd6c5ddf8b6a960ca22ab58077eb3"
   },
   "outputs": [],
   "source": [
    "train_X.head(5)"
   ]
  },
  {
   "cell_type": "code",
   "execution_count": null,
   "metadata": {
    "_cell_guid": "80066677-3032-49b4-af09-110ee1e20f83",
    "_uuid": "731f83e0ffdda584c9454133bc5f907b4205cdfc"
   },
   "outputs": [],
   "source": [
    "train_Y.head(5)"
   ]
  },
  {
   "cell_type": "raw",
   "metadata": {},
   "source": [
    "### Opdracht 9:\n",
    "\n",
    "Wat zie je in de output van de bovenstaande cellen? (2 stuks)\n",
    "\n",
    "\n",
    "Antwoord:\n",
    "    \n",
    "    \n",
    "    \n",
    "    \n",
    "    \n",
    "    "
   ]
  },
  {
   "cell_type": "raw",
   "metadata": {
    "_cell_guid": "efa32cb6-4dac-4905-abe5-4e808197bfc7",
    "_uuid": "e17ee6e52773b9936bc6be87adfba86a155844a1"
   },
   "source": [
    "### SVM (Zoek uit wat een SVM model is?) \n",
    "\n",
    "\n",
    "\n",
    "\n",
    "\n",
    "\n",
    "\n",
    "\n",
    "\n"
   ]
  },
  {
   "cell_type": "code",
   "execution_count": null,
   "metadata": {
    "_cell_guid": "9887e614-fb5a-4067-a059-271ac6d994b3",
    "_uuid": "728b32875673127f319cf9d45d4a848cdc8aed31"
   },
   "outputs": [],
   "source": [
    "types=['rbf','linear']\n",
    "for i in types:\n",
    "    model=svm.SVC(kernel=i)\n",
    "    model.fit(train_X,train_Y)\n",
    "    prediction=model.predict(test_X)\n",
    "    print('Accuracy for SVM kernel=',i,'is',metrics.accuracy_score(prediction,test_Y))"
   ]
  },
  {
   "cell_type": "raw",
   "metadata": {
    "_cell_guid": "72e6654b-2c01-4f22-9c58-6aed889d458d",
    "_uuid": "1f0cd5a502b787d63761b87c00456ce570357da5"
   },
   "source": [
    "### Logistic Regression (Wat is een Logistic Regression model?)\n",
    "\n",
    "\n",
    "\n",
    "\n",
    "\n",
    "\n",
    "\n",
    "\n",
    "\n",
    "\n",
    "\n"
   ]
  },
  {
   "cell_type": "code",
   "execution_count": null,
   "metadata": {
    "_cell_guid": "099625fb-d9ed-484f-9599-8e05fd39c9b7",
    "_uuid": "55d6acaa51e5df9132763e87c0c70ed2008b2456"
   },
   "outputs": [],
   "source": [
    "model = LogisticRegression()\n",
    "model.fit(train_X,train_Y)\n",
    "prediction=model.predict(test_X)\n",
    "print('The accuracy of the Logistic Regression is',metrics.accuracy_score(prediction,test_Y))"
   ]
  },
  {
   "cell_type": "markdown",
   "metadata": {},
   "source": [
    "## Vraag: Welk model van de drie geeft het beste resultaat?\n",
    "\n",
    "\n",
    "## Vraag: Als je van de drie modelen de confusion matrices naast elkaar zet welke kies je dan als beste? \n",
    "\n"
   ]
  },
  {
   "cell_type": "raw",
   "metadata": {
    "_cell_guid": "902eb2cd-5ea4-4288-a94a-03b0e0cf1379",
    "_uuid": "069c0bada2a225d5f7915029160b8168e4dd8771"
   },
   "source": [
    "\n",
    "### Opdracht  10:\n",
    "Maak voor de decision tree classifier een getraind model en test de nauwkeurigheid.\n",
    "\n"
   ]
  },
  {
   "cell_type": "code",
   "execution_count": null,
   "metadata": {
    "_cell_guid": "cc47efd2-f2a1-437c-8bbf-e9ca099066df",
    "_uuid": "ed96e98502d5bada87b40cc2e69889999abefac1"
   },
   "outputs": [],
   "source": [
    "model=DecisionTreeClassifier()\n",
    "\n",
    "\n",
    "\n",
    "\n"
   ]
  },
  {
   "attachments": {},
   "cell_type": "markdown",
   "metadata": {
    "_cell_guid": "f1bb369d-7c6d-4c93-ab4b-a44895e3eb48",
    "_uuid": "6e1396a981a019de67d863edd784995eda77a724"
   },
   "source": [
    "### Alle systemen op een rijtje.\n"
   ]
  },
  {
   "cell_type": "code",
   "execution_count": null,
   "metadata": {
    "_cell_guid": "9b23851c-0819-4f96-9932-15f9f445a930",
    "_uuid": "3973357baed566d5f3dc484506a6a0c1a3938856"
   },
   "outputs": [],
   "source": [
    "abc=[]\n",
    "classifiers=['Linear Svm','Radial Svm','Logistic Regression','KNN','Decision Tree']\n",
    "models=[svm.SVC(kernel='linear'),svm.SVC(kernel='rbf'),LogisticRegression(),KNeighborsClassifier(n_neighbors=3),DecisionTreeClassifier()]\n",
    "for i in models:\n",
    "    model = i\n",
    "    model.fit(train_X,train_Y)\n",
    "    prediction=model.predict(test_X)\n",
    "    abc.append(metrics.accuracy_score(prediction,test_Y))\n",
    "models_dataframe=pd.DataFrame(abc,index=classifiers)   \n",
    "models_dataframe.columns=['Accuracy']\n",
    "models_dataframe"
   ]
  },
  {
   "attachments": {},
   "cell_type": "markdown",
   "metadata": {
    "_cell_guid": "2c1f0b59-cf6c-4d01-9c1e-d8a6e185e10d",
    "_uuid": "a0f1bc9771625fade491871b7f0310a73b9e43dd"
   },
   "source": [
    "De bovenstaande algoritmen geven geen erg hoge nauwkeurigheid. Dit kan worden verbeterd door attributeselectie te gebruiken en alleen relevante kolommen te gebruiken. We kunnen ook gebruik maken van ensembling of middeling van verschillende algoritmen. "
   ]
  },
  {
   "cell_type": "code",
   "execution_count": null,
   "metadata": {},
   "outputs": [],
   "source": [
    "## Vraag: Wat is ensembling?\n",
    "\n",
    "\n",
    "\n"
   ]
  },
  {
   "cell_type": "raw",
   "metadata": {},
   "source": [
    "### Opdracht 11 \n",
    "\n",
    "Om de nauwkeurigheid van een model te bepalen wordt ook wel gebruik \n",
    "gemaakt van een confusion matrix, maak voor elk van de modellen een confusion \n",
    "matrix en doe een uitspraak over de betrouwbaarheid van ieder model?\n",
    "\n"
   ]
  },
  {
   "cell_type": "code",
   "execution_count": null,
   "metadata": {},
   "outputs": [],
   "source": [
    "test_Y.describe()"
   ]
  },
  {
   "cell_type": "code",
   "execution_count": null,
   "metadata": {},
   "outputs": [],
   "source": [
    "#  Confusion matrix.\n",
    "from sklearn import metrics\n",
    "\n",
    "\n",
    "\n",
    "\n",
    "\n",
    "\n"
   ]
  },
  {
   "attachments": {},
   "cell_type": "markdown",
   "metadata": {
    "_cell_guid": "3a7c30af-d1a8-4e79-8ba0-1b30cd16d1b1",
    "_uuid": "449c2e9a459aab17f4c68d7eb3a001d4bf4f92cd"
   },
   "source": [
    "## Feature Extraction/ Selection:\n",
    "\n",
    "- Veel attributen beïnvloeden de nauwkeurigheid van het algoritme.\n",
    "\n",
    "- Feature extractie betekent dat je alleen de belangrijkste attributen selecteert om de nauwkeurigheid te verbeteren. \n",
    "\n",
    "- Selectie van de belangrijkste attributen verkleint de kans op overfitting en versnelt de training.\n",
    "\n",
    "- Je kan op twee manieren de belangrijkste attributen selecteren:\n",
    " - Via de correlatie matrix en dan de attributen met een lage onderlinge correlatie bewaren/schrappen\n",
    " - Via een RandomforestClassifier deze geeft het belang van de attributen aan.\n",
    "\n"
   ]
  },
  {
   "cell_type": "code",
   "execution_count": null,
   "metadata": {
    "_cell_guid": "b3830717-b30d-4d81-aa08-476dab5c3948",
    "_uuid": "9050d261535cacfe5ea0d6283b747a7ec25750b3"
   },
   "outputs": [],
   "source": [
    "from sklearn.ensemble import RandomForestClassifier \n",
    "model= RandomForestClassifier(n_estimators=100,random_state=0)\n",
    "X=diab[diab.columns[:8]]\n",
    "Y=diab['Outcome']\n",
    "model.fit(X,Y)\n",
    "pd.Series(model.feature_importances_,index=X.columns).sort_values(ascending=False)"
   ]
  },
  {
   "attachments": {},
   "cell_type": "markdown",
   "metadata": {
    "_cell_guid": "88bb0462-0caf-4e63-9ca2-b8da6d31eb21",
    "_uuid": "061d92f855b34661fc84da49cee38c1e1153f262"
   },
   "source": [
    "### Gevraagd :Observations:\n",
    "\n",
    "Wat betekenen de verschillende getallen in de velden. Ga nu terug naar je correlatie matrix en kies de 5 attributen met de laagste onderlinge correlatie en vergelijk deze met de top 5 van de RandomForestClassifier?\n",
    "\n",
    "\n",
    "Verschil:   ....\n",
    "\n",
    "Overeenkomst: ......\n",
    "\n"
   ]
  },
  {
   "attachments": {},
   "cell_type": "markdown",
   "metadata": {
    "_cell_guid": "f11632b8-4bc6-4820-941a-b8bc22a5d4d6",
    "_uuid": "c8fb4fc2bd247e5040bb6f3535a28ab53fcb2acb"
   },
   "source": [
    "### Vraag wat zijn volgens jouw de belangrijkste features voor het bepalen van diabetes en geef aan waarop je dat baseert?\n",
    "\n",
    "Antwoord:\n",
    ".\n",
    ".\n",
    ".\n",
    ".\n",
    ".\n",
    ".\n",
    "..\n",
    ".\n"
   ]
  },
  {
   "attachments": {},
   "cell_type": "markdown",
   "metadata": {},
   "source": [
    "### Tot slot: \n",
    "Gezien de resultaten van de voorspellingen zou je een systeem van ML advisreen om disgnose te stellen of iemand diabetes heeft of niet\n"
   ]
  },
  {
   "cell_type": "raw",
   "metadata": {},
   "source": [
    "Antwoord: geef minimaal twee argumenten.\n",
    "    \n",
    "    \n",
    "    "
   ]
  },
  {
   "attachments": {},
   "cell_type": "markdown",
   "metadata": {},
   "source": [
    "### Tot slot maak een webapp met je beste model in gradio?\n",
    "### Als je het notebook download als Python heb je een complete webapp"
   ]
  },
  {
   "cell_type": "code",
   "execution_count": null,
   "metadata": {},
   "outputs": [],
   "source": [
    "from sklearn.ensemble import RandomForestClassifier \n",
    "\n",
    "model = RandomForestClassifier(n_estimators=100,random_state=0)\n",
    "X=diab[diab.columns[:8]]\n",
    "Y=diab['Outcome']\n",
    "model.fit(X,Y)\n"
   ]
  },
  {
   "cell_type": "code",
   "execution_count": null,
   "metadata": {},
   "outputs": [],
   "source": [
    "import gradio as gr\n",
    "\n",
    "# make de interface compleet ..\n",
    "\n",
    "def predict(Leeftijd, Aantal_zwangerschappen, BMI) :\n",
    "    \n",
    "    # zet input data om naar een formaat geschikt voor de predict fucntie\n",
    "    mydata = {\n",
    "        'Pregnancies' : [Aantal_zwangerschappen] ,\n",
    "        'Glucose' : [85] ,\n",
    "        'BloodPressure' : [72] ,\n",
    "        'SkinThickness' : [35] ,\n",
    "        'Insulin' : [0] ,\n",
    "        'BMI' : [BMI] ,\n",
    "        'DiabetesPedigreeFunction' : [0.726] ,\n",
    "        'Age' : [Leeftijd] \n",
    "    }\n",
    "    x = pd.DataFrame(mydata)  \n",
    "\n",
    "    prediction = model.predict(x)\n",
    "    \n",
    "    return  'kans  '+ str(prediction)\n",
    "\n",
    "\n",
    "demo = gr.Interface(fn=predict, \n",
    "                    inputs=[gr.Slider(21,80,step = 1), \"text\", gr.Slider(10,50,)], \n",
    "                    outputs=[\"text\"])\n",
    "\n",
    "demo.launch()\n",
    "    "
   ]
  },
  {
   "cell_type": "code",
   "execution_count": null,
   "metadata": {},
   "outputs": [],
   "source": []
  }
 ],
 "metadata": {
  "kernelspec": {
   "display_name": "Python 3",
   "language": "python",
   "name": "python3"
  },
  "language_info": {
   "codemirror_mode": {
    "name": "ipython",
    "version": 3
   },
   "file_extension": ".py",
   "mimetype": "text/x-python",
   "name": "python",
   "nbconvert_exporter": "python",
   "pygments_lexer": "ipython3",
   "version": "3.11.7"
  }
 },
 "nbformat": 4,
 "nbformat_minor": 1
}

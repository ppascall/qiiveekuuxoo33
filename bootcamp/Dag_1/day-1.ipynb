{
 "cells": [
  {
   "cell_type": "markdown",
   "metadata": {},
   "source": [
    "# Day 1 Exercises"
   ]
  },
  {
   "cell_type": "code",
   "execution_count": 3,
   "metadata": {},
   "outputs": [
    {
     "name": "stdout",
     "output_type": "stream",
     "text": [
      "Hello World\n"
     ]
    }
   ],
   "source": [
    "# This prints Hello World'''\n",
    "print (\"Hello World\")"
   ]
  },
  {
   "cell_type": "code",
   "execution_count": 10,
   "metadata": {},
   "outputs": [
    {
     "name": "stdout",
     "output_type": "stream",
     "text": [
      "Hello World\n"
     ]
    }
   ],
   "source": [
    "# This makes a variable that is a string that contains the text say Hello World'''\n",
    "hw = (\"Hello World\")\n",
    "\n",
    "print (hw)"
   ]
  },
  {
   "cell_type": "code",
   "execution_count": 12,
   "metadata": {},
   "outputs": [
    {
     "name": "stdout",
     "output_type": "stream",
     "text": [
      "Hel\n"
     ]
    }
   ],
   "source": [
    "# This is takes the variables third letter of the string'''\n",
    "hw = (\"Hello World\")\n",
    "\n",
    "print (hw[:3])"
   ]
  },
  {
   "cell_type": "code",
   "execution_count": 21,
   "metadata": {},
   "outputs": [
    {
     "name": "stdout",
     "output_type": "stream",
     "text": [
      "d\n"
     ]
    }
   ],
   "source": [
    "# This is takes the variables last letter of the string\n",
    "hw = (\"Hello World\")\n",
    "\n",
    "print (hw[-1:])"
   ]
  },
  {
   "cell_type": "code",
   "execution_count": 37,
   "metadata": {},
   "outputs": [
    {
     "name": "stdout",
     "output_type": "stream",
     "text": [
      "Hello World\n"
     ]
    }
   ],
   "source": [
    "# This is a function that prints the variable hw\n",
    "hw = (\"Hello World\")\n",
    "\n",
    "def hwprint (hw):\n",
    "    return\n",
    "print (hw)"
   ]
  },
  {
   "cell_type": "code",
   "execution_count": 38,
   "metadata": {},
   "outputs": [
    {
     "data": {
      "text/plain": [
       "'Hello World'"
      ]
     },
     "execution_count": 38,
     "metadata": {},
     "output_type": "execute_result"
    }
   ],
   "source": []
  },
  {
   "cell_type": "code",
   "execution_count": null,
   "metadata": {},
   "outputs": [
    {
     "name": "stdout",
     "output_type": "stream",
     "text": [
      "ajfkasjf\n"
     ]
    }
   ],
   "source": [
    "# This is a function that returns a given text\n",
    "def printInput():\n",
    "    return\n",
    "x = input()\n",
    "print(x) "
   ]
  },
  {
   "cell_type": "code",
   "execution_count": 35,
   "metadata": {},
   "outputs": [
    {
     "name": "stdout",
     "output_type": "stream",
     "text": [
      "Hello World\n"
     ]
    }
   ],
   "source": [
    "\n",
    "# This is a function that returns a given variable\n",
    "hw = (\"Hello World\")\n",
    "\n",
    "def printInput():\n",
    "    return\n",
    "x = input()\n",
    "print(eval(x)) "
   ]
  },
  {
   "cell_type": "code",
   "execution_count": 36,
   "metadata": {},
   "outputs": [
    {
     "name": "stdout",
     "output_type": "stream",
     "text": [
      "2\n"
     ]
    }
   ],
   "source": [
    "# This calculates 1 + 1 and prints it\n",
    "print (1 + 1)"
   ]
  },
  {
   "cell_type": "code",
   "execution_count": 91,
   "metadata": {},
   "outputs": [
    {
     "name": "stdout",
     "output_type": "stream",
     "text": [
      "[5, 6, 7, 8, 9, 10, 11, 12, 13, 14, 15, 16, 17, 18, 19, 20]\n",
      "200\n"
     ]
    }
   ],
   "source": [
    "# Creating two ranges\n",
    "r1 = range(11)\n",
    "r2 = range(11,16)\n",
    "\n",
    "# Turning the ranges into lists\n",
    "a = list(r1)\n",
    "b = list(r2)\n",
    "\n",
    "# Adding the two lists too eachother\n",
    "x = (a + b)\n",
    "\n",
    "# Adding 5 to each element in the new list\n",
    "newlist = [x+5 for x in range(16)]\n",
    "\n",
    "total = sum(newlist)\n",
    "\n",
    "print (newlist)\n",
    "print (total)\n",
    "\n",
    "\n"
   ]
  },
  {
   "cell_type": "code",
   "execution_count": 90,
   "metadata": {},
   "outputs": [
    {
     "name": "stdout",
     "output_type": "stream",
     "text": [
      "5050\n"
     ]
    }
   ],
   "source": [
    "\n",
    "# This calculates sigma\n",
    "i = 101\n",
    "range_sum = sum(i for i in range(i))\n",
    "print(range_sum)"
   ]
  },
  {
   "cell_type": "code",
   "execution_count": 74,
   "metadata": {},
   "outputs": [
    {
     "name": "stdout",
     "output_type": "stream",
     "text": [
      "False\n",
      "True\n",
      "True\n",
      "False\n",
      "False\n",
      "True\n"
     ]
    }
   ],
   "source": [
    "# Testing different operators with numbers\n",
    "\n",
    "print( 5 == 6 )\n",
    "print( 5 != 6 )\n",
    "print( 5 < 6 )\n",
    "print( 5 > 6 )\n",
    "print( 5 >= 6 )\n",
    "print( 5 <= 6 )"
   ]
  },
  {
   "cell_type": "code",
   "execution_count": 75,
   "metadata": {},
   "outputs": [
    {
     "name": "stdout",
     "output_type": "stream",
     "text": [
      "True\n",
      "True\n",
      "False\n"
     ]
    }
   ],
   "source": [
    "# Testing different operators with strings\n",
    "\n",
    "print('s' in 'Mississippi')\n",
    "print('sip' in 'Mississippi')\n",
    "print('mis' in 'Mississippi')"
   ]
  },
  {
   "cell_type": "code",
   "execution_count": 109,
   "metadata": {},
   "outputs": [
    {
     "name": "stdout",
     "output_type": "stream",
     "text": [
      "Hello World\n"
     ]
    }
   ],
   "source": [
    "# Defining variables\n",
    "a = \"Hello \"\n",
    "b = \"World\"\n",
    "\n",
    "# Checks if the variables are strings\n",
    "if isinstance(a + b, str):\n",
    "    # Adds them up\n",
    "    x = (a + b)\n",
    "# Prints the final result\n",
    "print (x) \n",
    "   "
   ]
  },
  {
   "cell_type": "code",
   "execution_count": 121,
   "metadata": {},
   "outputs": [
    {
     "name": "stdout",
     "output_type": "stream",
     "text": [
      "7\n"
     ]
    }
   ],
   "source": [
    "# Defining variables\n",
    "a = 3\n",
    "b = 4\n",
    "\n",
    "\n",
    "# Checks if its same or greater than\n",
    "if b >= a :\n",
    "    print (a + b)\n",
    "    \n",
    "\n"
   ]
  },
  {
   "cell_type": "code",
   "execution_count": 167,
   "metadata": {},
   "outputs": [
    {
     "name": "stdout",
     "output_type": "stream",
     "text": [
      "22 5\n",
      "22 6\n",
      "22 7\n",
      "22 8\n",
      "22 9\n",
      "22 10\n",
      "22 11\n",
      "22 12\n",
      "22 13\n",
      "22 14\n",
      "22 15\n",
      "22 16\n",
      "22 17\n",
      "22 18\n",
      "22 19\n",
      "22 20\n",
      "22 21\n",
      "22 22\n",
      "22\n"
     ]
    }
   ],
   "source": [
    "# Defining variables\n",
    "a = 22\n",
    "b = 4\n",
    "# Setting up function\n",
    "def incrementUntilEqual(a, b):\n",
    "    while a != b:\n",
    "        if a < b:\n",
    "            a += 1\n",
    "        else:\n",
    "            b += 1\n",
    "        print(a, b)\n",
    "    return a \n",
    "\n",
    "#Prints everything\n",
    "finalValue = incrementUntilEqual(a, b)\n",
    "print(finalValue)\n"
   ]
  },
  {
   "cell_type": "code",
   "execution_count": 169,
   "metadata": {},
   "outputs": [
    {
     "name": "stdout",
     "output_type": "stream",
     "text": [
      "31.41592653589793\n"
     ]
    }
   ],
   "source": [
    "import math\n",
    "\n",
    "# Defining variables\n",
    "a = 10\n",
    "b = math.pi\n",
    "\n",
    "# Calculating\n",
    "result = a*b\n",
    "# Checks if its bigger\n",
    "if result > a:\n",
    "    print(result)\n",
    "else: print(a)"
   ]
  },
  {
   "cell_type": "code",
   "execution_count": 183,
   "metadata": {},
   "outputs": [
    {
     "name": "stdout",
     "output_type": "stream",
     "text": [
      "True\n",
      "dict_keys(['a', 'b', 'c'])\n",
      "dict_values([1, 20, 5])\n",
      "1\n",
      "20\n",
      "5\n",
      "a\n",
      "b\n",
      "c\n",
      "1\n",
      "5\n",
      "20\n",
      "{'H': 1, 'e': 1, 'l': 3, 'o': 2, 'w': 1, 'r': 1, 'd': 1}\n"
     ]
    }
   ],
   "source": [
    "# Create dictionary\n",
    "a = {'a': 1, 'b': 20}\n",
    "\n",
    "# Add 'c' = 5\n",
    "a['c'] = 5\n",
    "\n",
    "# Check if 'c' is in dictionary\n",
    "print('c' in a)\n",
    "\n",
    "# Print keys and values\n",
    "print(a.keys())\n",
    "print(a.values())\n",
    "\n",
    "# Loop over values\n",
    "for v in a.values():\n",
    "    print(v)\n",
    "\n",
    "# Loop over sorted keys\n",
    "for k in sorted(a.keys()):\n",
    "    print(k)\n",
    "\n",
    "# Loop over sorted values\n",
    "for v in sorted(a.values()):\n",
    "    print(v)\n",
    "\n",
    "# Function to count letters in a sentence\n",
    "def count_letters(text):\n",
    "    d = {}\n",
    "    for letter in text:\n",
    "        if letter.isalpha():\n",
    "            d[letter] = d.get(letter, 0) + 1\n",
    "    return d\n",
    "\n",
    "# Test\n",
    "print(count_letters(\"Hello world!\"))\n"
   ]
  }
 ],
 "metadata": {
  "kernelspec": {
   "display_name": "env",
   "language": "python",
   "name": "python3"
  },
  "language_info": {
   "codemirror_mode": {
    "name": "ipython",
    "version": 3
   },
   "file_extension": ".py",
   "mimetype": "text/x-python",
   "name": "python",
   "nbconvert_exporter": "python",
   "pygments_lexer": "ipython3",
   "version": "3.12.6"
  }
 },
 "nbformat": 4,
 "nbformat_minor": 2
}

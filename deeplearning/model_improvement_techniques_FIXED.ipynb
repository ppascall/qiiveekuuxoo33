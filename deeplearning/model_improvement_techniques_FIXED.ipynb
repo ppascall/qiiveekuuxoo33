{
 "cells": [
  {
   "cell_type": "markdown",
   "id": "8b3cae69",
   "metadata": {},
   "source": [
    "# Model Improvement Techniques\n",
    "This notebook covers key topics to improve deep learning models: cross-validation, ensemble methods, transfer learning, and XAI (explainable AI). All examples are simple and CPU-friendly."
   ]
  },
  {
   "cell_type": "markdown",
   "id": "4882b573",
   "metadata": {},
   "source": [
    "## 1. Cross-Validation\n",
    "We'll use k-fold cross-validation with a basic classifier to demonstrate how to validate model performance."
   ]
  },
  {
   "cell_type": "code",
   "execution_count": 1,
   "id": "97252a00",
   "metadata": {},
   "outputs": [
    {
     "name": "stdout",
     "output_type": "stream",
     "text": [
      "Cross-validation scores: [1.         0.96666667 0.93333333 0.93333333 0.93333333]\n",
      "Average score: 0.9533333333333335\n"
     ]
    }
   ],
   "source": [
    "from sklearn.datasets import load_iris\n",
    "from sklearn.model_selection import cross_val_score, KFold\n",
    "from sklearn.ensemble import RandomForestClassifier\n",
    "import numpy as np\n",
    "\n",
    "data = load_iris()\n",
    "X, y = data.data, data.target\n",
    "\n",
    "model = RandomForestClassifier(n_estimators=50)\n",
    "cv = KFold(n_splits=5, shuffle=True, random_state=42)\n",
    "scores = cross_val_score(model, X, y, cv=cv)\n",
    "\n",
    "print(\"Cross-validation scores:\", scores)\n",
    "print(\"Average score:\", np.mean(scores))"
   ]
  },
  {
   "cell_type": "markdown",
   "id": "c503f0b0",
   "metadata": {},
   "source": [
    "## 2. Ensemble Methods\n",
    "We'll create a simple ensemble using voting from multiple models."
   ]
  },
  {
   "cell_type": "code",
   "execution_count": 2,
   "id": "cd377b66",
   "metadata": {},
   "outputs": [
    {
     "name": "stdout",
     "output_type": "stream",
     "text": [
      "Ensemble accuracy: 0.9933333333333333\n"
     ]
    }
   ],
   "source": [
    "from sklearn.linear_model import LogisticRegression\n",
    "from sklearn.svm import SVC\n",
    "from sklearn.ensemble import VotingClassifier\n",
    "\n",
    "clf1 = LogisticRegression(max_iter=200)\n",
    "clf2 = RandomForestClassifier(n_estimators=50)\n",
    "clf3 = SVC(probability=True)\n",
    "\n",
    "ensemble = VotingClassifier(estimators=[\n",
    "    ('lr', clf1), ('rf', clf2), ('svc', clf3)\n",
    "], voting='soft')\n",
    "\n",
    "ensemble.fit(X, y)\n",
    "print(\"Ensemble accuracy:\", ensemble.score(X, y))"
   ]
  },
  {
   "cell_type": "markdown",
   "id": "6b04d5d5",
   "metadata": {},
   "source": [
    "## 3. Transfer Learning\n",
    "We’ll use a pretrained ResNet18 from torchvision and fine-tune it."
   ]
  },
  {
   "cell_type": "code",
   "execution_count": 3,
   "id": "35058b97",
   "metadata": {},
   "outputs": [
    {
     "name": "stderr",
     "output_type": "stream",
     "text": [
      "/home/pascal/Desktop/Projects/env/lib/python3.12/site-packages/torchvision/models/_utils.py:208: UserWarning: The parameter 'pretrained' is deprecated since 0.13 and may be removed in the future, please use 'weights' instead.\n",
      "  warnings.warn(\n",
      "/home/pascal/Desktop/Projects/env/lib/python3.12/site-packages/torchvision/models/_utils.py:223: UserWarning: Arguments other than a weight enum or `None` for 'weights' are deprecated since 0.13 and may be removed in the future. The current behavior is equivalent to passing `weights=ResNet18_Weights.IMAGENET1K_V1`. You can also use `weights=ResNet18_Weights.DEFAULT` to get the most up-to-date weights.\n",
      "  warnings.warn(msg)\n"
     ]
    },
    {
     "name": "stdout",
     "output_type": "stream",
     "text": [
      "Transfer learning example complete.\n"
     ]
    }
   ],
   "source": [
    "import torch\n",
    "import torch.nn as nn\n",
    "import torchvision.models as models\n",
    "import torchvision.transforms as transforms\n",
    "from torchvision.datasets import FakeData\n",
    "from torch.utils.data import DataLoader\n",
    "\n",
    "device = torch.device('cpu')\n",
    "\n",
    "transform = transforms.Compose([transforms.ToTensor(), transforms.Resize((224, 224))])\n",
    "dataset = FakeData(size=100, image_size=(3, 224, 224), num_classes=2, transform=transform)\n",
    "dataloader = DataLoader(dataset, batch_size=8)\n",
    "\n",
    "model = models.resnet18(pretrained=True)\n",
    "model.fc = nn.Linear(model.fc.in_features, 2)\n",
    "\n",
    "criterion = nn.CrossEntropyLoss()\n",
    "optimizer = torch.optim.Adam(model.parameters(), lr=0.001)\n",
    "\n",
    "model = model.to(device)\n",
    "model.train()\n",
    "for images, labels in dataloader:\n",
    "    images, labels = images.to(device), labels.to(device)\n",
    "    outputs = model(images)\n",
    "    loss = criterion(outputs, labels)\n",
    "    optimizer.zero_grad()\n",
    "    loss.backward()\n",
    "    optimizer.step()\n",
    "print(\"Transfer learning example complete.\")"
   ]
  },
  {
   "cell_type": "markdown",
   "id": "b746e1de",
   "metadata": {},
   "source": [
    "## 4. Explainable AI (XAI)\n",
    "We use SHAP to explain a simple model’s predictions."
   ]
  },
  {
   "cell_type": "code",
   "execution_count": 7,
   "id": "cd537083",
   "metadata": {},
   "outputs": [
    {
     "data": {
      "image/png": "[encoded data removed]",
      "text/plain": [
       "<Figure size 800x300 with 1 Axes>"
      ]
     },
     "metadata": {},
     "output_type": "display_data"
    }
   ],
   "source": [
    "import shap\n",
    "import matplotlib.pyplot as plt\n",
    "\n",
    "clf2.fit(X, y)\n",
    "\n",
    "explainer = shap.TreeExplainer(clf2)\n",
    "shap_values = explainer.shap_values(X[:5])\n",
    "\n",
    "shap_exp = shap.Explanation(\n",
    "    values=shap_values[1],  \n",
    "    base_values=explainer.expected_value[1],\n",
    "    data=X[:5],\n",
    "    feature_names=data.feature_names\n",
    ")\n",
    "\n",
    "shap.plots.bar(shap_exp)\n"
   ]
  }
 ],
 "metadata": {
  "kernelspec": {
   "display_name": "env",
   "language": "python",
   "name": "python3"
  },
  "language_info": {
   "codemirror_mode": {
    "name": "ipython",
    "version": 3
   },
   "file_extension": ".py",
   "mimetype": "text/x-python",
   "name": "python",
   "nbconvert_exporter": "python",
   "pygments_lexer": "ipython3",
   "version": "3.12.3"
  }
 },
 "nbformat": 4,
 "nbformat_minor": 5
}
